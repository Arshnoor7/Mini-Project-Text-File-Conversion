{
  "nbformat": 4,
  "nbformat_minor": 0,
  "metadata": {
    "colab": {
      "provenance": [],
      "authorship_tag": "ABX9TyNp7Vo+JFql5Dwpp0Hb5TPP",
      "include_colab_link": true
    },
    "kernelspec": {
      "name": "python3",
      "display_name": "Python 3"
    },
    "language_info": {
      "name": "python"
    }
  },
  "cells": [
    {
      "cell_type": "markdown",
      "metadata": {
        "id": "view-in-github",
        "colab_type": "text"
      },
      "source": [
        "<a href=\"https://colab.research.google.com/github/Arshnoor7/Mini-Project-Text-File-Conversion/blob/main/Text_File_Conversion.ipynb\" target=\"_parent\"><img src=\"https://colab.research.google.com/assets/colab-badge.svg\" alt=\"Open In Colab\"/></a>"
      ]
    },
    {
      "cell_type": "markdown",
      "source": [
        "# **Mini Project – Text File Conversion**"
      ],
      "metadata": {
        "id": "UnoGNV4rCVRq"
      }
    },
    {
      "cell_type": "markdown",
      "source": [
        "Compare the performance (time taken) of C, C++ and Python programs for\n",
        "1. Convert 200MB, 400 MB, 600 MB, 800 MB, and 1000MB text files to **upper case.**\n"
      ],
      "metadata": {
        "id": "5I-cW7gdClkY"
      }
    },
    {
      "cell_type": "code",
      "execution_count": 2,
      "metadata": {
        "colab": {
          "base_uri": "https://localhost:8080/",
          "height": 206
        },
        "id": "c9aP-ThGCSgl",
        "outputId": "39eccf4c-eee6-40c0-e6c4-828b40e5c21f"
      },
      "outputs": [
        {
          "output_type": "execute_result",
          "data": {
            "text/plain": [
              "           C     C++  Python\n",
              "200    19.03   23.79    72.9\n",
              "400    62.47   69.31    99.3\n",
              "600    84.26   97.43   128.3\n",
              "800   123.90  141.72   196.5\n",
              "1000  218.60  235.79   335.4"
            ],
            "text/html": [
              "\n",
              "  <div id=\"df-56b3efb3-66af-4d8c-aa5f-557e08ac5aab\">\n",
              "    <div class=\"colab-df-container\">\n",
              "      <div>\n",
              "<style scoped>\n",
              "    .dataframe tbody tr th:only-of-type {\n",
              "        vertical-align: middle;\n",
              "    }\n",
              "\n",
              "    .dataframe tbody tr th {\n",
              "        vertical-align: top;\n",
              "    }\n",
              "\n",
              "    .dataframe thead th {\n",
              "        text-align: right;\n",
              "    }\n",
              "</style>\n",
              "<table border=\"1\" class=\"dataframe\">\n",
              "  <thead>\n",
              "    <tr style=\"text-align: right;\">\n",
              "      <th></th>\n",
              "      <th>C</th>\n",
              "      <th>C++</th>\n",
              "      <th>Python</th>\n",
              "    </tr>\n",
              "  </thead>\n",
              "  <tbody>\n",
              "    <tr>\n",
              "      <th>200</th>\n",
              "      <td>19.03</td>\n",
              "      <td>23.79</td>\n",
              "      <td>72.9</td>\n",
              "    </tr>\n",
              "    <tr>\n",
              "      <th>400</th>\n",
              "      <td>62.47</td>\n",
              "      <td>69.31</td>\n",
              "      <td>99.3</td>\n",
              "    </tr>\n",
              "    <tr>\n",
              "      <th>600</th>\n",
              "      <td>84.26</td>\n",
              "      <td>97.43</td>\n",
              "      <td>128.3</td>\n",
              "    </tr>\n",
              "    <tr>\n",
              "      <th>800</th>\n",
              "      <td>123.90</td>\n",
              "      <td>141.72</td>\n",
              "      <td>196.5</td>\n",
              "    </tr>\n",
              "    <tr>\n",
              "      <th>1000</th>\n",
              "      <td>218.60</td>\n",
              "      <td>235.79</td>\n",
              "      <td>335.4</td>\n",
              "    </tr>\n",
              "  </tbody>\n",
              "</table>\n",
              "</div>\n",
              "      <button class=\"colab-df-convert\" onclick=\"convertToInteractive('df-56b3efb3-66af-4d8c-aa5f-557e08ac5aab')\"\n",
              "              title=\"Convert this dataframe to an interactive table.\"\n",
              "              style=\"display:none;\">\n",
              "        \n",
              "  <svg xmlns=\"http://www.w3.org/2000/svg\" height=\"24px\"viewBox=\"0 0 24 24\"\n",
              "       width=\"24px\">\n",
              "    <path d=\"M0 0h24v24H0V0z\" fill=\"none\"/>\n",
              "    <path d=\"M18.56 5.44l.94 2.06.94-2.06 2.06-.94-2.06-.94-.94-2.06-.94 2.06-2.06.94zm-11 1L8.5 8.5l.94-2.06 2.06-.94-2.06-.94L8.5 2.5l-.94 2.06-2.06.94zm10 10l.94 2.06.94-2.06 2.06-.94-2.06-.94-.94-2.06-.94 2.06-2.06.94z\"/><path d=\"M17.41 7.96l-1.37-1.37c-.4-.4-.92-.59-1.43-.59-.52 0-1.04.2-1.43.59L10.3 9.45l-7.72 7.72c-.78.78-.78 2.05 0 2.83L4 21.41c.39.39.9.59 1.41.59.51 0 1.02-.2 1.41-.59l7.78-7.78 2.81-2.81c.8-.78.8-2.07 0-2.86zM5.41 20L4 18.59l7.72-7.72 1.47 1.35L5.41 20z\"/>\n",
              "  </svg>\n",
              "      </button>\n",
              "      \n",
              "  <style>\n",
              "    .colab-df-container {\n",
              "      display:flex;\n",
              "      flex-wrap:wrap;\n",
              "      gap: 12px;\n",
              "    }\n",
              "\n",
              "    .colab-df-convert {\n",
              "      background-color: #E8F0FE;\n",
              "      border: none;\n",
              "      border-radius: 50%;\n",
              "      cursor: pointer;\n",
              "      display: none;\n",
              "      fill: #1967D2;\n",
              "      height: 32px;\n",
              "      padding: 0 0 0 0;\n",
              "      width: 32px;\n",
              "    }\n",
              "\n",
              "    .colab-df-convert:hover {\n",
              "      background-color: #E2EBFA;\n",
              "      box-shadow: 0px 1px 2px rgba(60, 64, 67, 0.3), 0px 1px 3px 1px rgba(60, 64, 67, 0.15);\n",
              "      fill: #174EA6;\n",
              "    }\n",
              "\n",
              "    [theme=dark] .colab-df-convert {\n",
              "      background-color: #3B4455;\n",
              "      fill: #D2E3FC;\n",
              "    }\n",
              "\n",
              "    [theme=dark] .colab-df-convert:hover {\n",
              "      background-color: #434B5C;\n",
              "      box-shadow: 0px 1px 3px 1px rgba(0, 0, 0, 0.15);\n",
              "      filter: drop-shadow(0px 1px 2px rgba(0, 0, 0, 0.3));\n",
              "      fill: #FFFFFF;\n",
              "    }\n",
              "  </style>\n",
              "\n",
              "      <script>\n",
              "        const buttonEl =\n",
              "          document.querySelector('#df-56b3efb3-66af-4d8c-aa5f-557e08ac5aab button.colab-df-convert');\n",
              "        buttonEl.style.display =\n",
              "          google.colab.kernel.accessAllowed ? 'block' : 'none';\n",
              "\n",
              "        async function convertToInteractive(key) {\n",
              "          const element = document.querySelector('#df-56b3efb3-66af-4d8c-aa5f-557e08ac5aab');\n",
              "          const dataTable =\n",
              "            await google.colab.kernel.invokeFunction('convertToInteractive',\n",
              "                                                     [key], {});\n",
              "          if (!dataTable) return;\n",
              "\n",
              "          const docLinkHtml = 'Like what you see? Visit the ' +\n",
              "            '<a target=\"_blank\" href=https://colab.research.google.com/notebooks/data_table.ipynb>data table notebook</a>'\n",
              "            + ' to learn more about interactive tables.';\n",
              "          element.innerHTML = '';\n",
              "          dataTable['output_type'] = 'display_data';\n",
              "          await google.colab.output.renderOutput(dataTable, element);\n",
              "          const docLink = document.createElement('div');\n",
              "          docLink.innerHTML = docLinkHtml;\n",
              "          element.appendChild(docLink);\n",
              "        }\n",
              "      </script>\n",
              "    </div>\n",
              "  </div>\n",
              "  "
            ]
          },
          "metadata": {},
          "execution_count": 2
        }
      ],
      "source": [
        "import pandas as pd\n",
        "\n",
        "d1 = {'C':[19.03,62.47,84.26,123.9,218.6],'C++':[23.79,69.31,97.43,141.72,235.79], 'Python':[72.9,99.3,128.3,196.5,335.4]}\n",
        "d2 = pd.DataFrame(d1,index = [200,400,600,800,1000])\n",
        "\n",
        "d2"
      ]
    },
    {
      "cell_type": "markdown",
      "source": [
        "![image.png](data:image/png;base64,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)"
      ],
      "metadata": {
        "id": "00acvQqBIJOz"
      }
    }
  ]
}